{
 "cells": [
  {
   "cell_type": "code",
   "execution_count": 28,
   "metadata": {},
   "outputs": [],
   "source": [
    "import tensorflow as tf\n",
    "import keras \n",
    "import pandas as pd\n",
    "import numpy as np\n",
    "import matplotlib.pyplot as plt\n",
    "%matplotlib inline\n",
    "import warnings\n",
    "warnings.filterwarnings('ignore')\n"
   ]
  },
  {
   "attachments": {},
   "cell_type": "markdown",
   "metadata": {},
   "source": [
    "使用RM、LSTAT及CRIM作為解釋變數，建立多元線性回歸模型，並將迭代運算次數、學習率及權重向量的初始值分別設定為2500、0.001及(1.0, 0.6, 0.8, 1.0)"
   ]
  },
  {
   "cell_type": "code",
   "execution_count": 29,
   "metadata": {},
   "outputs": [
    {
     "data": {
      "text/html": [
       "<div>\n",
       "<style scoped>\n",
       "    .dataframe tbody tr th:only-of-type {\n",
       "        vertical-align: middle;\n",
       "    }\n",
       "\n",
       "    .dataframe tbody tr th {\n",
       "        vertical-align: top;\n",
       "    }\n",
       "\n",
       "    .dataframe thead th {\n",
       "        text-align: right;\n",
       "    }\n",
       "</style>\n",
       "<table border=\"1\" class=\"dataframe\">\n",
       "  <thead>\n",
       "    <tr style=\"text-align: right;\">\n",
       "      <th></th>\n",
       "      <th>0</th>\n",
       "      <th>1</th>\n",
       "      <th>2</th>\n",
       "      <th>3</th>\n",
       "      <th>4</th>\n",
       "      <th>5</th>\n",
       "      <th>6</th>\n",
       "      <th>7</th>\n",
       "      <th>8</th>\n",
       "      <th>9</th>\n",
       "      <th>10</th>\n",
       "    </tr>\n",
       "  </thead>\n",
       "  <tbody>\n",
       "    <tr>\n",
       "      <th>0</th>\n",
       "      <td>0.00632</td>\n",
       "      <td>18.00</td>\n",
       "      <td>2.31</td>\n",
       "      <td>0.0</td>\n",
       "      <td>0.538</td>\n",
       "      <td>6.575</td>\n",
       "      <td>65.2</td>\n",
       "      <td>4.0900</td>\n",
       "      <td>1.0</td>\n",
       "      <td>296.0</td>\n",
       "      <td>15.3</td>\n",
       "    </tr>\n",
       "    <tr>\n",
       "      <th>1</th>\n",
       "      <td>396.90000</td>\n",
       "      <td>4.98</td>\n",
       "      <td>24.00</td>\n",
       "      <td>NaN</td>\n",
       "      <td>NaN</td>\n",
       "      <td>NaN</td>\n",
       "      <td>NaN</td>\n",
       "      <td>NaN</td>\n",
       "      <td>NaN</td>\n",
       "      <td>NaN</td>\n",
       "      <td>NaN</td>\n",
       "    </tr>\n",
       "    <tr>\n",
       "      <th>2</th>\n",
       "      <td>0.02731</td>\n",
       "      <td>0.00</td>\n",
       "      <td>7.07</td>\n",
       "      <td>0.0</td>\n",
       "      <td>0.469</td>\n",
       "      <td>6.421</td>\n",
       "      <td>78.9</td>\n",
       "      <td>4.9671</td>\n",
       "      <td>2.0</td>\n",
       "      <td>242.0</td>\n",
       "      <td>17.8</td>\n",
       "    </tr>\n",
       "    <tr>\n",
       "      <th>3</th>\n",
       "      <td>396.90000</td>\n",
       "      <td>9.14</td>\n",
       "      <td>21.60</td>\n",
       "      <td>NaN</td>\n",
       "      <td>NaN</td>\n",
       "      <td>NaN</td>\n",
       "      <td>NaN</td>\n",
       "      <td>NaN</td>\n",
       "      <td>NaN</td>\n",
       "      <td>NaN</td>\n",
       "      <td>NaN</td>\n",
       "    </tr>\n",
       "    <tr>\n",
       "      <th>4</th>\n",
       "      <td>0.02729</td>\n",
       "      <td>0.00</td>\n",
       "      <td>7.07</td>\n",
       "      <td>0.0</td>\n",
       "      <td>0.469</td>\n",
       "      <td>7.185</td>\n",
       "      <td>61.1</td>\n",
       "      <td>4.9671</td>\n",
       "      <td>2.0</td>\n",
       "      <td>242.0</td>\n",
       "      <td>17.8</td>\n",
       "    </tr>\n",
       "    <tr>\n",
       "      <th>...</th>\n",
       "      <td>...</td>\n",
       "      <td>...</td>\n",
       "      <td>...</td>\n",
       "      <td>...</td>\n",
       "      <td>...</td>\n",
       "      <td>...</td>\n",
       "      <td>...</td>\n",
       "      <td>...</td>\n",
       "      <td>...</td>\n",
       "      <td>...</td>\n",
       "      <td>...</td>\n",
       "    </tr>\n",
       "    <tr>\n",
       "      <th>1007</th>\n",
       "      <td>396.90000</td>\n",
       "      <td>5.64</td>\n",
       "      <td>23.90</td>\n",
       "      <td>NaN</td>\n",
       "      <td>NaN</td>\n",
       "      <td>NaN</td>\n",
       "      <td>NaN</td>\n",
       "      <td>NaN</td>\n",
       "      <td>NaN</td>\n",
       "      <td>NaN</td>\n",
       "      <td>NaN</td>\n",
       "    </tr>\n",
       "    <tr>\n",
       "      <th>1008</th>\n",
       "      <td>0.10959</td>\n",
       "      <td>0.00</td>\n",
       "      <td>11.93</td>\n",
       "      <td>0.0</td>\n",
       "      <td>0.573</td>\n",
       "      <td>6.794</td>\n",
       "      <td>89.3</td>\n",
       "      <td>2.3889</td>\n",
       "      <td>1.0</td>\n",
       "      <td>273.0</td>\n",
       "      <td>21.0</td>\n",
       "    </tr>\n",
       "    <tr>\n",
       "      <th>1009</th>\n",
       "      <td>393.45000</td>\n",
       "      <td>6.48</td>\n",
       "      <td>22.00</td>\n",
       "      <td>NaN</td>\n",
       "      <td>NaN</td>\n",
       "      <td>NaN</td>\n",
       "      <td>NaN</td>\n",
       "      <td>NaN</td>\n",
       "      <td>NaN</td>\n",
       "      <td>NaN</td>\n",
       "      <td>NaN</td>\n",
       "    </tr>\n",
       "    <tr>\n",
       "      <th>1010</th>\n",
       "      <td>0.04741</td>\n",
       "      <td>0.00</td>\n",
       "      <td>11.93</td>\n",
       "      <td>0.0</td>\n",
       "      <td>0.573</td>\n",
       "      <td>6.030</td>\n",
       "      <td>80.8</td>\n",
       "      <td>2.5050</td>\n",
       "      <td>1.0</td>\n",
       "      <td>273.0</td>\n",
       "      <td>21.0</td>\n",
       "    </tr>\n",
       "    <tr>\n",
       "      <th>1011</th>\n",
       "      <td>396.90000</td>\n",
       "      <td>7.88</td>\n",
       "      <td>11.90</td>\n",
       "      <td>NaN</td>\n",
       "      <td>NaN</td>\n",
       "      <td>NaN</td>\n",
       "      <td>NaN</td>\n",
       "      <td>NaN</td>\n",
       "      <td>NaN</td>\n",
       "      <td>NaN</td>\n",
       "      <td>NaN</td>\n",
       "    </tr>\n",
       "  </tbody>\n",
       "</table>\n",
       "<p>1012 rows × 11 columns</p>\n",
       "</div>"
      ],
      "text/plain": [
       "             0      1      2    3      4      5     6       7    8      9   \\\n",
       "0       0.00632  18.00   2.31  0.0  0.538  6.575  65.2  4.0900  1.0  296.0   \n",
       "1     396.90000   4.98  24.00  NaN    NaN    NaN   NaN     NaN  NaN    NaN   \n",
       "2       0.02731   0.00   7.07  0.0  0.469  6.421  78.9  4.9671  2.0  242.0   \n",
       "3     396.90000   9.14  21.60  NaN    NaN    NaN   NaN     NaN  NaN    NaN   \n",
       "4       0.02729   0.00   7.07  0.0  0.469  7.185  61.1  4.9671  2.0  242.0   \n",
       "...         ...    ...    ...  ...    ...    ...   ...     ...  ...    ...   \n",
       "1007  396.90000   5.64  23.90  NaN    NaN    NaN   NaN     NaN  NaN    NaN   \n",
       "1008    0.10959   0.00  11.93  0.0  0.573  6.794  89.3  2.3889  1.0  273.0   \n",
       "1009  393.45000   6.48  22.00  NaN    NaN    NaN   NaN     NaN  NaN    NaN   \n",
       "1010    0.04741   0.00  11.93  0.0  0.573  6.030  80.8  2.5050  1.0  273.0   \n",
       "1011  396.90000   7.88  11.90  NaN    NaN    NaN   NaN     NaN  NaN    NaN   \n",
       "\n",
       "        10  \n",
       "0     15.3  \n",
       "1      NaN  \n",
       "2     17.8  \n",
       "3      NaN  \n",
       "4     17.8  \n",
       "...    ...  \n",
       "1007   NaN  \n",
       "1008  21.0  \n",
       "1009   NaN  \n",
       "1010  21.0  \n",
       "1011   NaN  \n",
       "\n",
       "[1012 rows x 11 columns]"
      ]
     },
     "execution_count": 29,
     "metadata": {},
     "output_type": "execute_result"
    }
   ],
   "source": [
    "url = \"http://lib.stat.cmu.edu/datasets/boston\"\n",
    "data = pd.read_csv(url,sep='\\s+',skiprows=22,header=None)\n",
    "data"
   ]
  },
  {
   "cell_type": "code",
   "execution_count": 30,
   "metadata": {},
   "outputs": [
    {
     "name": "stdout",
     "output_type": "stream",
     "text": [
      "元資料 (506, 13) (506,)\n",
      "特徵名:  ['CRIM' 'ZN' 'INDUS' 'CHAS' 'NOX' 'RM' 'AGE' 'DIS' 'RAD' 'TAX' 'PTRATIO'\n",
      " 'B' 'LSTAT']\n"
     ]
    }
   ],
   "source": [
    "x_org = np.hstack([data.values[::2, :], \n",
    "    data.values[1::2, :2]])\n",
    "yt = data.values[1::2, 2]\n",
    "feature_names = np.array(['CRIM', 'ZN', 'INDUS', 'CHAS', 'NOX',\n",
    "    'RM', 'AGE', 'DIS', 'RAD', 'TAX', 'PTRATIO','B', 'LSTAT'])\n",
    "print('元資料', x_org.shape, yt.shape)\n",
    "print('特徵名: ', feature_names)"
   ]
  },
  {
   "cell_type": "code",
   "execution_count": 31,
   "metadata": {},
   "outputs": [],
   "source": [
    "X_df = pd.DataFrame(x_org)\n",
    "data_df =  X_df.rename(columns={0:'CRIM',1:'ZN',2:'INDUS',3:'CHAS',4:'NOX',\n",
    "                                5: 'RM',6: 'AGE',7: 'DIS',8: 'RAD',9: 'TAX',\n",
    "                                10: 'PTRATIO',11:'B',12: 'LSTAT'})\n",
    "label = pd.DataFrame(yt,columns=['MEDV'])"
   ]
  },
  {
   "attachments": {},
   "cell_type": "markdown",
   "metadata": {},
   "source": [
    "資料合併"
   ]
  },
  {
   "cell_type": "code",
   "execution_count": 32,
   "metadata": {},
   "outputs": [],
   "source": [
    "row_df = data_df.join(label)\n",
    "row_df.to_csv(\"Boston_house_price_data.csv\")"
   ]
  },
  {
   "cell_type": "code",
   "execution_count": 33,
   "metadata": {},
   "outputs": [
    {
     "data": {
      "text/plain": [
       "array([[1.0000e+00, 6.5750e+00, 4.9800e+00, 6.3200e-03],\n",
       "       [1.0000e+00, 6.4210e+00, 9.1400e+00, 2.7310e-02],\n",
       "       [1.0000e+00, 7.1850e+00, 4.0300e+00, 2.7290e-02],\n",
       "       ...,\n",
       "       [1.0000e+00, 6.9760e+00, 5.6400e+00, 6.0760e-02],\n",
       "       [1.0000e+00, 6.7940e+00, 6.4800e+00, 1.0959e-01],\n",
       "       [1.0000e+00, 6.0300e+00, 7.8800e+00, 4.7410e-02]])"
      ]
     },
     "execution_count": 33,
     "metadata": {},
     "output_type": "execute_result"
    }
   ],
   "source": [
    "x = row_df.iloc[:,[5,12,0]].values \n",
    "x = np.insert(x, 0, 1.0, axis=1)\n",
    "x"
   ]
  },
  {
   "cell_type": "code",
   "execution_count": 34,
   "metadata": {},
   "outputs": [
    {
     "data": {
      "text/plain": [
       "array([24. , 21.6, 34.7, 33.4, 36.2, 28.7, 22.9, 27.1, 16.5, 18.9, 15. ,\n",
       "       18.9, 21.7, 20.4, 18.2, 19.9, 23.1, 17.5, 20.2, 18.2, 13.6, 19.6,\n",
       "       15.2, 14.5, 15.6, 13.9, 16.6, 14.8, 18.4, 21. , 12.7, 14.5, 13.2,\n",
       "       13.1, 13.5, 18.9, 20. , 21. , 24.7, 30.8, 34.9, 26.6, 25.3, 24.7,\n",
       "       21.2, 19.3, 20. , 16.6, 14.4, 19.4, 19.7, 20.5, 25. , 23.4, 18.9,\n",
       "       35.4, 24.7, 31.6, 23.3, 19.6, 18.7, 16. , 22.2, 25. , 33. , 23.5,\n",
       "       19.4, 22. , 17.4, 20.9, 24.2, 21.7, 22.8, 23.4, 24.1, 21.4, 20. ,\n",
       "       20.8, 21.2, 20.3, 28. , 23.9, 24.8, 22.9, 23.9, 26.6, 22.5, 22.2,\n",
       "       23.6, 28.7, 22.6, 22. , 22.9, 25. , 20.6, 28.4, 21.4, 38.7, 43.8,\n",
       "       33.2, 27.5, 26.5, 18.6, 19.3, 20.1, 19.5, 19.5, 20.4, 19.8, 19.4,\n",
       "       21.7, 22.8, 18.8, 18.7, 18.5, 18.3, 21.2, 19.2, 20.4, 19.3, 22. ,\n",
       "       20.3, 20.5, 17.3, 18.8, 21.4, 15.7, 16.2, 18. , 14.3, 19.2, 19.6,\n",
       "       23. , 18.4, 15.6, 18.1, 17.4, 17.1, 13.3, 17.8, 14. , 14.4, 13.4,\n",
       "       15.6, 11.8, 13.8, 15.6, 14.6, 17.8, 15.4, 21.5, 19.6, 15.3, 19.4,\n",
       "       17. , 15.6, 13.1, 41.3, 24.3, 23.3, 27. , 50. , 50. , 50. , 22.7,\n",
       "       25. , 50. , 23.8, 23.8, 22.3, 17.4, 19.1, 23.1, 23.6, 22.6, 29.4,\n",
       "       23.2, 24.6, 29.9, 37.2, 39.8, 36.2, 37.9, 32.5, 26.4, 29.6, 50. ,\n",
       "       32. , 29.8, 34.9, 37. , 30.5, 36.4, 31.1, 29.1, 50. , 33.3, 30.3,\n",
       "       34.6, 34.9, 32.9, 24.1, 42.3, 48.5, 50. , 22.6, 24.4, 22.5, 24.4,\n",
       "       20. , 21.7, 19.3, 22.4, 28.1, 23.7, 25. , 23.3, 28.7, 21.5, 23. ,\n",
       "       26.7, 21.7, 27.5, 30.1, 44.8, 50. , 37.6, 31.6, 46.7, 31.5, 24.3,\n",
       "       31.7, 41.7, 48.3, 29. , 24. , 25.1, 31.5, 23.7, 23.3, 22. , 20.1,\n",
       "       22.2, 23.7, 17.6, 18.5, 24.3, 20.5, 24.5, 26.2, 24.4, 24.8, 29.6,\n",
       "       42.8, 21.9, 20.9, 44. , 50. , 36. , 30.1, 33.8, 43.1, 48.8, 31. ,\n",
       "       36.5, 22.8, 30.7, 50. , 43.5, 20.7, 21.1, 25.2, 24.4, 35.2, 32.4,\n",
       "       32. , 33.2, 33.1, 29.1, 35.1, 45.4, 35.4, 46. , 50. , 32.2, 22. ,\n",
       "       20.1, 23.2, 22.3, 24.8, 28.5, 37.3, 27.9, 23.9, 21.7, 28.6, 27.1,\n",
       "       20.3, 22.5, 29. , 24.8, 22. , 26.4, 33.1, 36.1, 28.4, 33.4, 28.2,\n",
       "       22.8, 20.3, 16.1, 22.1, 19.4, 21.6, 23.8, 16.2, 17.8, 19.8, 23.1,\n",
       "       21. , 23.8, 23.1, 20.4, 18.5, 25. , 24.6, 23. , 22.2, 19.3, 22.6,\n",
       "       19.8, 17.1, 19.4, 22.2, 20.7, 21.1, 19.5, 18.5, 20.6, 19. , 18.7,\n",
       "       32.7, 16.5, 23.9, 31.2, 17.5, 17.2, 23.1, 24.5, 26.6, 22.9, 24.1,\n",
       "       18.6, 30.1, 18.2, 20.6, 17.8, 21.7, 22.7, 22.6, 25. , 19.9, 20.8,\n",
       "       16.8, 21.9, 27.5, 21.9, 23.1, 50. , 50. , 50. , 50. , 50. , 13.8,\n",
       "       13.8, 15. , 13.9, 13.3, 13.1, 10.2, 10.4, 10.9, 11.3, 12.3,  8.8,\n",
       "        7.2, 10.5,  7.4, 10.2, 11.5, 15.1, 23.2,  9.7, 13.8, 12.7, 13.1,\n",
       "       12.5,  8.5,  5. ,  6.3,  5.6,  7.2, 12.1,  8.3,  8.5,  5. , 11.9,\n",
       "       27.9, 17.2, 27.5, 15. , 17.2, 17.9, 16.3,  7. ,  7.2,  7.5, 10.4,\n",
       "        8.8,  8.4, 16.7, 14.2, 20.8, 13.4, 11.7,  8.3, 10.2, 10.9, 11. ,\n",
       "        9.5, 14.5, 14.1, 16.1, 14.3, 11.7, 13.4,  9.6,  8.7,  8.4, 12.8,\n",
       "       10.5, 17.1, 18.4, 15.4, 10.8, 11.8, 14.9, 12.6, 14.1, 13. , 13.4,\n",
       "       15.2, 16.1, 17.8, 14.9, 14.1, 12.7, 13.5, 14.9, 20. , 16.4, 17.7,\n",
       "       19.5, 20.2, 21.4, 19.9, 19. , 19.1, 19.1, 20.1, 19.9, 19.6, 23.2,\n",
       "       29.8, 13.8, 13.3, 16.7, 12. , 14.6, 21.4, 23. , 23.7, 25. , 21.8,\n",
       "       20.6, 21.2, 19.1, 20.6, 15.2,  7. ,  8.1, 13.6, 20.1, 21.8, 24.5,\n",
       "       23.1, 19.7, 18.3, 21.2, 17.5, 16.8, 22.4, 20.6, 23.9, 22. , 11.9])"
      ]
     },
     "execution_count": 34,
     "metadata": {},
     "output_type": "execute_result"
    }
   ],
   "source": [
    "y =  row_df.iloc[:,-1].values\n",
    "y"
   ]
  },
  {
   "cell_type": "code",
   "execution_count": 35,
   "metadata": {},
   "outputs": [],
   "source": [
    "M = x.shape[0] #number of feature\n",
    "D = x.shape[1] #number of sample\n",
    "epochs = 2500 #number of iteration\n",
    "learning_rate = 0.001\n",
    "w = [1.0,0.6,0.8,1.0] #weight init\n",
    "history = np.zeros((0,2))"
   ]
  },
  {
   "cell_type": "code",
   "execution_count": 36,
   "metadata": {},
   "outputs": [
    {
     "name": "stdout",
     "output_type": "stream",
     "text": [
      "epoch = 0 loss = 190.33363731797905\n",
      "epoch = 100 loss = 26.312042110346063\n",
      "epoch = 200 loss = 16.461340812424297\n",
      "epoch = 300 loss = 15.187603098322638\n",
      "epoch = 400 loss = 15.022847411921548\n",
      "epoch = 500 loss = 15.001492509117309\n",
      "epoch = 600 loss = 14.998680595540712\n",
      "epoch = 700 loss = 14.998266505699313\n",
      "epoch = 800 loss = 14.998162533514721\n",
      "epoch = 900 loss = 14.998098720922057\n",
      "epoch = 1000 loss = 14.99804015999918\n",
      "epoch = 1100 loss = 14.997982336789065\n",
      "epoch = 1200 loss = 14.997924667530693\n",
      "epoch = 1300 loss = 14.997867076670603\n",
      "epoch = 1400 loss = 14.99780955437093\n",
      "epoch = 1500 loss = 14.997752099291473\n",
      "epoch = 1600 loss = 14.997694711190933\n",
      "epoch = 1700 loss = 14.997637389970182\n",
      "epoch = 1800 loss = 14.997580135548555\n",
      "epoch = 1900 loss = 14.997522947847859\n",
      "epoch = 2000 loss = 14.997465826790295\n",
      "epoch = 2100 loss = 14.99740877229819\n",
      "epoch = 2200 loss = 14.997351784293983\n",
      "epoch = 2300 loss = 14.997294862700185\n",
      "epoch = 2400 loss = 14.997238007439408\n"
     ]
    }
   ],
   "source": [
    "for epoch in range(epochs):\n",
    "    yp = x @ w\n",
    "    yd = yp - y\n",
    "    w -= learning_rate * ( x.T @ yd ) / M\n",
    "\n",
    "    if ( epoch % 100 == 0):\n",
    "        loss = np.mean(yd**2)/2\n",
    "        history = np.vstack((history,np.array([epoch,loss])))\n",
    "        print(f'epoch = {epoch} loss = {loss}')  "
   ]
  },
  {
   "cell_type": "code",
   "execution_count": 37,
   "metadata": {},
   "outputs": [
    {
     "name": "stdout",
     "output_type": "stream",
     "text": [
      "weight:[ 1.48553637  4.65886924 -0.62070863 -0.09811901]\n",
      "\n",
      "init loss:190.33363731797905\n",
      "\n",
      "final loss:14.997238007439408\n"
     ]
    }
   ],
   "source": [
    "print(f'weight:{w}\\n')\n",
    "print(f'init loss:{history[0,1]}\\n')\n",
    "print(f'final loss:{history[-1,1]}')"
   ]
  },
  {
   "cell_type": "code",
   "execution_count": 38,
   "metadata": {},
   "outputs": [
    {
     "data": {
      "text/plain": [
       "array([29.0258525 , 25.72417922, 32.45537838, 32.2602438 , 31.46732268,\n",
       "       28.20524474, 21.77058701, 18.33932391,  9.12109305, 18.82658552,\n",
       "       18.479588  , 21.23235204, 19.16108311, 24.01230473, 23.45493667,\n",
       "       23.3464185 , 24.94825192, 20.20942255, 19.56948191, 21.09407235,\n",
       "       14.26531819, 20.60768967, 18.35971691, 16.13087188, 18.89351227,\n",
       "       17.24017277, 19.30892127, 18.83809429, 23.72397657, 25.04438085,\n",
       "       13.9626873 , 21.54722604, 11.86978395, 16.54274088, 17.10254137,\n",
       "       23.1118517 , 21.60614538, 23.28844345, 22.97539607, 29.52660667,\n",
       "       32.97713498, 30.00934704, 26.6058997 , 25.78806473, 23.82040812,\n",
       "       21.60297669, 19.64024494, 17.88669986,  7.48982898, 17.50747839,\n",
       "       20.90913644, 24.11698394, 28.53683321, 24.19197298, 19.72913627,\n",
       "       32.27078461, 27.63959356, 30.78718493, 25.84107213, 23.36558702,\n",
       "       20.05513503, 20.30046959, 27.37500749, 27.07966609, 29.58352464,\n",
       "       27.88759797, 22.08605963, 23.83694972, 19.40887585, 23.43437802,\n",
       "       27.20167827, 23.10887724, 26.30627502, 25.8808602 , 26.49447109,\n",
       "       25.21272015, 23.29873197, 23.70777262, 22.85452514, 23.19505648,\n",
       "       29.53816543, 27.83669746, 26.67097812, 25.55177692, 25.27487105,\n",
       "       28.31498492, 21.52123142, 24.75667763, 30.7107821 , 30.92243022,\n",
       "       25.90846132, 26.23192501, 26.42886562, 26.56435167, 24.02129259,\n",
       "       28.21085822, 23.14802398, 36.45291318, 35.69393098, 32.18679323,\n",
       "       26.96408804, 28.30527649, 24.70501537, 21.71392991, 22.54974811,\n",
       "       18.50849657, 17.0754762 , 21.2717733 , 24.01839971, 20.82774651,\n",
       "       22.2674291 , 26.45354928, 18.95964616, 19.23766306, 24.12173606,\n",
       "       19.30413347, 22.77247035, 23.12847513, 19.28931249, 19.72346779,\n",
       "       19.90674653, 20.59284487, 18.11862605, 12.98091317, 17.95330713,\n",
       "       20.16424872, 10.67724571, 17.31307002, 21.86208773, 16.27731858,\n",
       "       23.71821879, 23.23060525, 24.21167604, 19.24786073, 17.46639932,\n",
       "       20.41752578, 18.64690439, 22.46316922, 15.51451534, 18.63053195,\n",
       "       15.22453169,  3.35001653,  9.68414323, 10.15907848,  5.87467109,\n",
       "       12.55524636, 17.15940235,  5.8731937 ,  7.83924936, 13.97877292,\n",
       "       21.09259818, 18.27223766, 17.20226146, 18.07115614, 20.51590585,\n",
       "       20.47700459, 15.78879185, 30.8629564 , 25.62332252, 27.08791676,\n",
       "       27.06462099, 35.15839871, 36.46234588, 38.29376882, 21.31349027,\n",
       "       23.53324592, 35.93185075, 21.1536664 , 23.80935229, 24.04485005,\n",
       "       19.78109673, 21.18552507, 18.31289368, 25.75663   , 22.78993191,\n",
       "       28.66757873, 23.24967499, 26.99671535, 29.14355854, 30.87040086,\n",
       "       32.96263466, 24.23717396, 31.81899838, 28.52625039, 18.90818118,\n",
       "       21.98330703, 35.20149132, 28.927927  , 29.18630933, 31.60567975,\n",
       "       30.69482498, 29.96375167, 33.13696494, 30.0415369 , 29.53259307,\n",
       "       36.32927195, 32.89828972, 29.24724048, 31.26136293, 31.14762718,\n",
       "       31.9626704 , 25.57824327, 35.00699136, 35.70329262, 37.12527974,\n",
       "       22.17044682, 24.12583252, 17.19305428, 20.62399946, 12.00761984,\n",
       "       18.51564112, 11.74060159, 18.5683202 , 25.34979311,  8.32898627,\n",
       "       24.38912572, 20.5267106 , 26.40819811, 18.07650773, 24.64785929,\n",
       "       27.80712019, 16.84239502, 27.30907805, 27.54023362, 37.39507587,\n",
       "       39.20858764, 36.96253181, 30.8688475 , 34.83116938, 29.63323613,\n",
       "       22.06628781, 32.71292966, 38.73693199, 37.42290836, 27.78043788,\n",
       "       23.05368121, 26.40585914, 32.77932413, 27.72387206, 27.67832596,\n",
       "       26.54297737, 22.17414495, 24.13217969, 28.03569256, 19.76351375,\n",
       "       16.121444  , 24.22287482, 24.17217637, 25.53076621, 28.69325704,\n",
       "       28.03167408, 29.22998623, 31.69812181, 37.72962881, 25.8591256 ,\n",
       "       23.1160159 , 34.28083474, 38.79830231, 30.7486013 , 29.01420028,\n",
       "       29.03778065, 31.96148104, 36.89129658, 28.55712547, 29.97563585,\n",
       "       20.82771473, 24.90547243, 35.46535606, 34.27281696, 20.58447495,\n",
       "       20.66930913, 26.45050445, 27.13590128, 33.21086623, 30.77353536,\n",
       "       31.55829104, 31.57597981, 30.69881812, 27.21360377, 30.19067447,\n",
       "       35.58051864, 31.09584928, 35.22824498, 36.43484529, 29.6341498 ,\n",
       "       26.43971213, 22.48260107, 25.97679764, 26.18440634, 26.16385765,\n",
       "       31.37964233, 32.56967328, 29.45296184, 24.69663859, 23.01726707,\n",
       "       28.69293326, 27.40416326, 18.61452681, 27.9547954 , 31.34101935,\n",
       "       29.72459158, 26.28728217, 26.35425652, 30.98730553, 30.89019209,\n",
       "       26.76031122, 32.03099939, 28.71535655, 29.53074586, 23.08555561,\n",
       "       16.54974529, 26.21774197, 22.24552386, 25.74798152, 26.28392901,\n",
       "       20.90135705, 17.62927149, 18.50496197, 24.74845261, 22.01693049,\n",
       "       26.93788319, 26.90840089, 24.81585546, 20.76338469, 27.53997828,\n",
       "       28.27469947, 27.04518473, 21.86292492, 22.62882346, 26.42755637,\n",
       "       24.46292897, 20.34870743, 24.71962735, 27.38034205, 26.6895503 ,\n",
       "       24.63536732, 22.74213279, 22.39190357, 24.42815081, 23.31777308,\n",
       "       23.51724949, 31.81144159, 26.5829605 , 28.22214164, 30.64614506,\n",
       "       22.96485963, 21.09312268, 27.89318659, 28.67761628, 30.15461169,\n",
       "       28.00366593, 28.72074623, 24.05589498, 30.0355429 , 22.86778827,\n",
       "       25.67277857, 18.620561  , 22.66447284, 22.39430056, 21.67805126,\n",
       "       26.0120128 , 21.42380554, 19.78046895, 19.01948346, 38.76596668,\n",
       "       13.2093068 , 15.55484247,  9.88191728, 22.13599783, 29.74918345,\n",
       "       31.69328871, 23.62385014, 22.53332609,  1.66999395, -4.61939455,\n",
       "       25.28949758, 16.53704589, 18.99017151, 14.18419662, 15.2055827 ,\n",
       "       14.53588486, 17.33571714, 11.72689145, 11.17367634,  0.85246129,\n",
       "        5.29679921,  3.21146043,  2.70620833,  3.80831149, 12.85522592,\n",
       "       16.79821236, 17.51251137,  7.8717921 , 20.07354831, 17.45286307,\n",
       "       20.15126854, 18.7263079 , 15.14277092,  4.13983258,  9.17359939,\n",
       "       10.30431786, 17.02710268, 17.77282108, 11.70089999,  6.18393574,\n",
       "        7.03368413,  4.24394475, 18.91064923, 10.54123464, 19.71381993,\n",
       "       17.01388815, 17.94955093, -0.13268918, 10.2264992 , -4.90340084,\n",
       "       11.65467223, 16.01087094,  7.11523484,  9.22431523, 18.00373457,\n",
       "       20.94261868, 19.03252991, 17.86468064, 14.77053106, 15.89810944,\n",
       "       12.25894892, 17.73875452, 17.67180565, 16.25741026, 15.34613561,\n",
       "       19.27749863, 20.11053399, 23.31936256, 20.85451571, 19.6264776 ,\n",
       "       16.83024328, 18.96774507, 12.23998476,  6.67733601, 12.57778075,\n",
       "       12.70333762, 18.25989329, 19.60550934, 19.02003862, 12.73574952,\n",
       "       15.64547333, 19.36804044, 19.4298616 , 18.13183403, 18.65717193,\n",
       "       21.44395027, 20.95126783, 19.60335544, 24.72859971, 20.28348213,\n",
       "       20.16491281, 17.06916686, 17.82114714, 20.0063292 , 20.02437924,\n",
       "       22.04042196, 21.73474087, 21.57892541, 24.87049441, 21.43750102,\n",
       "       19.23494204, 18.19957574, 15.78531064, 16.31227569, 17.65708103,\n",
       "       19.67874037, 22.12086796, 22.21114635, 26.31103275, 14.719139  ,\n",
       "       14.60712398, 19.62082934,  9.26024564, 18.10521413, 20.96173421,\n",
       "       23.32834134, 27.56853793, 29.46830879, 21.58562031, 20.32412158,\n",
       "       23.9647648 , 20.1131787 , 21.41457422, 15.67020907, 11.81227645,\n",
       "        6.77016945, 18.13297094, 21.06216818, 20.60198744, 20.63113404,\n",
       "       16.95929071, 13.44664583, 19.70069985, 21.48425257, 18.04063031,\n",
       "       20.64777063, 26.19306359, 24.35733988, 30.47904977, 29.10494917,\n",
       "       24.68268203])"
      ]
     },
     "execution_count": 38,
     "metadata": {},
     "output_type": "execute_result"
    }
   ],
   "source": [
    "y_pred = x @ w\n",
    "y_pred"
   ]
  },
  {
   "cell_type": "code",
   "execution_count": 39,
   "metadata": {},
   "outputs": [
    {
     "data": {
      "text/plain": [
       "Text(0, 0.5, 'loss')"
      ]
     },
     "execution_count": 39,
     "metadata": {},
     "output_type": "execute_result"
    },
    {
     "data": {
      "image/png": "[encoded data removed]",
      "text/plain": [
       "<Figure size 640x480 with 1 Axes>"
      ]
     },
     "metadata": {},
     "output_type": "display_data"
    }
   ],
   "source": [
    "plt.plot(history[1:,0],history[1:,1])\n",
    "plt.xlabel('epoch')\n",
    "plt.ylabel('loss')"
   ]
  },
  {
   "cell_type": "code",
   "execution_count": 1,
   "metadata": {},
   "outputs": [
    {
     "name": "stdout",
     "output_type": "stream",
     "text": [
      "Collecting MetaTrader5\n",
      "  Downloading MetaTrader5-5.0.44-cp39-cp39-win_amd64.whl (57 kB)\n",
      "     -------------------------------------- 57.1/57.1 kB 997.1 kB/s eta 0:00:00\n",
      "Requirement already satisfied: numpy>=1.7 in c:\\users\\johnn\\anaconda3\\envs\\tf_2.3_py_3.7\\lib\\site-packages (from MetaTrader5) (1.23.5)\n",
      "Installing collected packages: MetaTrader5\n",
      "Successfully installed MetaTrader5-5.0.44\n",
      "Note: you may need to restart the kernel to use updated packages.\n"
     ]
    }
   ],
   "source": [
    "pip install MetaTrader5"
   ]
  },
  {
   "cell_type": "code",
   "execution_count": 1,
   "metadata": {},
   "outputs": [
    {
     "name": "stdout",
     "output_type": "stream",
     "text": [
      "Note: you may need to restart the kernel to use updated packages.\n"
     ]
    },
    {
     "name": "stderr",
     "output_type": "stream",
     "text": [
      "ERROR: Could not find a version that satisfies the requirement MyTool (from versions: none)\n",
      "ERROR: No matching distribution found for MyTool\n"
     ]
    }
   ],
   "source": [
    "pip install MyTool"
   ]
  },
  {
   "cell_type": "code",
   "execution_count": 2,
   "metadata": {},
   "outputs": [
    {
     "name": "stdout",
     "output_type": "stream",
     "text": [
      "Collecting mytoolsNote: you may need to restart the kernel to use updated packages.\n",
      "\n",
      "  Downloading mytools-1.1.3.tar.gz (14 kB)\n",
      "  Preparing metadata (setup.py): started\n",
      "  Preparing metadata (setup.py): finished with status 'done'\n",
      "Requirement already satisfied: numpy>=1.10 in c:\\users\\johnn\\anaconda3\\envs\\tf_2.3_py_3.7\\lib\\site-packages (from mytools) (1.23.5)\n",
      "Requirement already satisfied: matplotlib>0.1 in c:\\users\\johnn\\anaconda3\\envs\\tf_2.3_py_3.7\\lib\\site-packages (from mytools) (3.7.0)\n",
      "Requirement already satisfied: scipy>=0.1 in c:\\users\\johnn\\anaconda3\\envs\\tf_2.3_py_3.7\\lib\\site-packages (from mytools) (1.10.0)\n",
      "Requirement already satisfied: pandas>=0.1 in c:\\users\\johnn\\anaconda3\\envs\\tf_2.3_py_3.7\\lib\\site-packages (from mytools) (1.5.3)\n",
      "Requirement already satisfied: kiwisolver>=1.0.1 in c:\\users\\johnn\\anaconda3\\envs\\tf_2.3_py_3.7\\lib\\site-packages (from matplotlib>0.1->mytools) (1.4.4)\n",
      "Requirement already satisfied: python-dateutil>=2.7 in c:\\users\\johnn\\anaconda3\\envs\\tf_2.3_py_3.7\\lib\\site-packages (from matplotlib>0.1->mytools) (2.8.2)\n",
      "Requirement already satisfied: pyparsing>=2.3.1 in c:\\users\\johnn\\anaconda3\\envs\\tf_2.3_py_3.7\\lib\\site-packages (from matplotlib>0.1->mytools) (3.0.9)\n",
      "Requirement already satisfied: fonttools>=4.22.0 in c:\\users\\johnn\\anaconda3\\envs\\tf_2.3_py_3.7\\lib\\site-packages (from matplotlib>0.1->mytools) (4.38.0)\n",
      "Requirement already satisfied: importlib-resources>=3.2.0 in c:\\users\\johnn\\anaconda3\\envs\\tf_2.3_py_3.7\\lib\\site-packages (from matplotlib>0.1->mytools) (5.12.0)\n",
      "Requirement already satisfied: cycler>=0.10 in c:\\users\\johnn\\anaconda3\\envs\\tf_2.3_py_3.7\\lib\\site-packages (from matplotlib>0.1->mytools) (0.11.0)\n",
      "Requirement already satisfied: pillow>=6.2.0 in c:\\users\\johnn\\anaconda3\\envs\\tf_2.3_py_3.7\\lib\\site-packages (from matplotlib>0.1->mytools) (9.4.0)\n",
      "Requirement already satisfied: contourpy>=1.0.1 in c:\\users\\johnn\\anaconda3\\envs\\tf_2.3_py_3.7\\lib\\site-packages (from matplotlib>0.1->mytools) (1.0.7)\n",
      "Requirement already satisfied: packaging>=20.0 in c:\\users\\johnn\\anaconda3\\envs\\tf_2.3_py_3.7\\lib\\site-packages (from matplotlib>0.1->mytools) (22.0)\n",
      "Requirement already satisfied: pytz>=2020.1 in c:\\users\\johnn\\anaconda3\\envs\\tf_2.3_py_3.7\\lib\\site-packages (from pandas>=0.1->mytools) (2022.7.1)\n",
      "Requirement already satisfied: zipp>=3.1.0 in c:\\users\\johnn\\anaconda3\\envs\\tf_2.3_py_3.7\\lib\\site-packages (from importlib-resources>=3.2.0->matplotlib>0.1->mytools) (3.11.0)\n",
      "Requirement already satisfied: six>=1.5 in c:\\users\\johnn\\anaconda3\\envs\\tf_2.3_py_3.7\\lib\\site-packages (from python-dateutil>=2.7->matplotlib>0.1->mytools) (1.16.0)\n",
      "Building wheels for collected packages: mytools\n",
      "  Building wheel for mytools (setup.py): started\n",
      "  Building wheel for mytools (setup.py): finished with status 'done'\n",
      "  Created wheel for mytools: filename=mytools-1.1.3-py3-none-any.whl size=18544 sha256=942c714d26d47afe35d355a138f70c5f3d23f296ff918d9a91da02e74fac8622\n",
      "  Stored in directory: c:\\users\\johnn\\appdata\\local\\pip\\cache\\wheels\\19\\05\\1a\\99f71daa9998dbcc1b7d4cceb5152e550bb480e443d0521930\n",
      "Successfully built mytools\n",
      "Installing collected packages: mytools\n",
      "Successfully installed mytools-1.1.3\n"
     ]
    }
   ],
   "source": [
    "pip install mytools"
   ]
  },
  {
   "cell_type": "code",
   "execution_count": 3,
   "metadata": {},
   "outputs": [],
   "source": [
    "import MetaTrader5 as mt5"
   ]
  },
  {
   "cell_type": "code",
   "execution_count": 4,
   "metadata": {},
   "outputs": [
    {
     "data": {
      "text/plain": [
       "False"
      ]
     },
     "execution_count": 4,
     "metadata": {},
     "output_type": "execute_result"
    }
   ],
   "source": [
    "mt5.initialize()"
   ]
  },
  {
   "cell_type": "code",
   "execution_count": 6,
   "metadata": {},
   "outputs": [
    {
     "ename": "TypeError",
     "evalue": "structseq() missing required argument 'sequence' (pos 1)",
     "output_type": "error",
     "traceback": [
      "\u001b[1;31m---------------------------------------------------------------------------\u001b[0m",
      "\u001b[1;31mTypeError\u001b[0m                                 Traceback (most recent call last)",
      "Cell \u001b[1;32mIn[6], line 1\u001b[0m\n\u001b[1;32m----> 1\u001b[0m mt5\u001b[39m.\u001b[39;49mAccountInfo()\n",
      "\u001b[1;31mTypeError\u001b[0m: structseq() missing required argument 'sequence' (pos 1)"
     ]
    }
   ],
   "source": [
    "mt5.AccountInfo()"
   ]
  },
  {
   "cell_type": "code",
   "execution_count": null,
   "metadata": {},
   "outputs": [],
   "source": []
  }
 ],
 "metadata": {
  "kernelspec": {
   "display_name": "tf_2.3_py_3.7",
   "language": "python",
   "name": "python3"
  },
  "language_info": {
   "codemirror_mode": {
    "name": "ipython",
    "version": 3
   },
   "file_extension": ".py",
   "mimetype": "text/x-python",
   "name": "python",
   "nbconvert_exporter": "python",
   "pygments_lexer": "ipython3",
   "version": "3.9.16"
  },
  "orig_nbformat": 4
 },
 "nbformat": 4,
 "nbformat_minor": 2
}
